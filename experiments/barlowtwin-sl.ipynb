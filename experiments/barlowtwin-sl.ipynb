{
 "cells": [
  {
   "cell_type": "code",
   "execution_count": null,
   "id": "5e52846b",
   "metadata": {},
   "outputs": [],
   "source": [
    "import os\n",
    "import sys\n",
    "import random\n",
    "import warnings\n",
    "\n",
    "warnings.filterwarnings(\"ignore\")\n",
    "sys.path.append(os.path.abspath('..'))\n",
    "\n",
    "import cv2\n",
    "import time\n",
    "import numpy as np\n",
    "import pandas as pd\n",
    "import kagglehub\n",
    "from sklearn.model_selection import train_test_split\n",
    "\n",
    "import torch\n",
    "import torch.optim as optim\n",
    "import torch.optim.lr_scheduler as lr_scheduler\n",
    "from torch.utils.data import DataLoader, SequentialSampler\n",
    "\n",
    "import albumentations as A\n",
    "from albumentations.pytorch import ToTensorV2\n",
    "\n",
    "from utils.datasets import BusbraDataset, BarlowTwinDataset\n",
    "from utils.metric import BCEDiceLoss, BarlowTwinsLoss\n",
    "from utils.visualization import predict_compare, plot_history_loss\n",
    "from utils.training import train, pretrain_barlow_twins\n",
    "from models.BarlowTwins import BarlowTwinsModel, Projector\n",
    "from models.SpatialAttention_UNet import SpatialAttentionUNet_Barlow"
   ]
  },
  {
   "cell_type": "markdown",
   "id": "a5874f41",
   "metadata": {},
   "source": [
    "# Hyper-parameter"
   ]
  },
  {
   "cell_type": "code",
   "execution_count": null,
   "id": "8b1ec60f",
   "metadata": {},
   "outputs": [],
   "source": [
    "SEED = 42\n",
    "IMG_SIZE = (256, 256)\n",
    "BATCH_SIZE_PRETRAIN = 16\n",
    "BATCH_SIZE_FINETUNE = 8\n",
    "NUM_WORKERS = 2\n",
    "DEVICE = torch.device(\"cuda\" if torch.cuda.is_available() else \"cpu\")\n",
    "INIT_FEATURES = 32\n",
    "PROJECTOR_DIMS = [INIT_FEATURES * 16, 2048, 2048]\n",
    "PRETRAIN_EPOCHS = 100\n",
    "FINETUNE_EPOCHS = 100\n",
    "LEARNING_RATE_PRETRAIN = 1e-4\n",
    "LEARNING_RATE_FINETUNE = 1e-3\n",
    "FINE_TUNE_FRACTION = 0.2\n",
    "BARLOW_LAMBDA = 0.2"
   ]
  },
  {
   "cell_type": "code",
   "execution_count": null,
   "id": "408afd56",
   "metadata": {},
   "outputs": [],
   "source": [
    "random.seed(SEED)\n",
    "np.random.seed(SEED)\n",
    "torch.manual_seed(SEED)\n",
    "if torch.cuda.is_available():\n",
    "    torch.cuda.manual_seed(SEED)\n",
    "    torch.cuda.manual_seed_all(SEED)"
   ]
  },
  {
   "cell_type": "markdown",
   "id": "39cb1132",
   "metadata": {},
   "source": [
    "# Load Dataset"
   ]
  },
  {
   "cell_type": "code",
   "execution_count": null,
   "id": "a4c43ef8",
   "metadata": {},
   "outputs": [],
   "source": [
    "path = kagglehub.dataset_download(\"orvile/bus-bra-a-breast-ultrasound-dataset\")\n",
    "base = os.path.join(path, \"BUSBRA\")\n",
    "images_root = os.path.join(base, \"Images\")\n",
    "masks_root = os.path.join(base, \"Masks\")\n",
    "csv_path = os.path.join(base, \"bus_data.csv\")\n",
    "df_meta = pd.read_csv(csv_path)"
   ]
  },
  {
   "cell_type": "code",
   "execution_count": null,
   "id": "07f09ec0",
   "metadata": {},
   "outputs": [],
   "source": [
    "entries = []\n",
    "for _, row in df_meta.iterrows():\n",
    "    base_id = str(row['ID'])\n",
    "    img_file = f\"{base_id}.png\"\n",
    "    if base_id.startswith(\"bus_\"):\n",
    "        mask_file = f\"mask_{base_id[4:]}.png\"\n",
    "    else:\n",
    "        continue\n",
    "    img_p = os.path.join(images_root, img_file)\n",
    "    mask_p = os.path.join(masks_root, mask_file)\n",
    "    if os.path.exists(img_p) and os.path.exists(mask_p):\n",
    "        entries.append((row['Pathology'], img_p, mask_p))"
   ]
  },
  {
   "cell_type": "code",
   "execution_count": null,
   "id": "6564686d",
   "metadata": {},
   "outputs": [],
   "source": [
    "df = pd.DataFrame(entries, columns=[\"label\", \"image_path\", \"mask_path\"])\n",
    "stratify = df['label'] if df['label'].value_counts().min() >= 2 else None\n",
    "train_df, val_df = train_test_split(df, test_size=0.2, stratify=stratify)\n",
    "fine_tune_df, _ = train_test_split(train_df, train_size=FINE_TUNE_FRACTION, random_state=SEED, stratify=train_df[\"label\"])"
   ]
  },
  {
   "cell_type": "code",
   "execution_count": null,
   "id": "4fd9362f",
   "metadata": {},
   "outputs": [],
   "source": [
    "IMG_SIZE = (256, 256)\n",
    "train_transform = A.Compose([\n",
    "    A.Resize(*IMG_SIZE),\n",
    "    A.HorizontalFlip(p=0.5),\n",
    "    A.RandomBrightnessContrast(p=0.8),\n",
    "    A.GaussNoise(p=0.3),\n",
    "    A.Normalize(mean=0, std=1, max_pixel_value=255),\n",
    "    ToTensorV2(),\n",
    "])\n",
    "val_transform = A.Compose([\n",
    "    A.Resize(*IMG_SIZE),\n",
    "    A.Normalize(mean=0, std=1, max_pixel_value=255),\n",
    "    ToTensorV2(),\n",
    "])\n",
    "barlow_twins_transform = A.Compose([\n",
    "    A.RandomResizedCrop(size=IMG_SIZE,\n",
    "                        scale=(0.5, 1.0),\n",
    "                        p=0.5,\n",
    "                        interpolation=cv2.INTER_LINEAR),\n",
    "    A.HorizontalFlip(p=0.5),\n",
    "    A.Rotate(limit=30, p=0.5),\n",
    "    A.RandomBrightnessContrast(brightness_limit=0.4, contrast_limit=0.4,\n",
    "                               p=0.8),\n",
    "    A.GaussNoise(var_limit=(10.0, 60.0), p=0.5),\n",
    "    A.GaussianBlur(blur_limit=(3, 7), p=0.5),\n",
    "    A.Resize(height=IMG_SIZE[0],\n",
    "             width=IMG_SIZE[1],\n",
    "             interpolation=cv2.INTER_LINEAR),\n",
    "    A.Normalize(mean=(0.5, ), std=(0.5, )),\n",
    "    ToTensorV2(),\n",
    "])"
   ]
  },
  {
   "cell_type": "code",
   "execution_count": null,
   "id": "2b7fa5f8",
   "metadata": {},
   "outputs": [],
   "source": [
    "dataset_args = dict(batch_size=8,\n",
    "                    num_workers=2,\n",
    "                    pin_memory=torch.cuda.is_available())\n",
    "train_ds = BusbraDataset(train_df, IMG_SIZE, train_transform)\n",
    "val_ds = BusbraDataset(val_df, IMG_SIZE, val_transform)\n",
    "train_loader = DataLoader(train_ds, shuffle=True, **dataset_args)\n",
    "val_loader = DataLoader(val_ds,\n",
    "                        sampler=SequentialSampler(val_ds),\n",
    "                        shuffle=False,\n",
    "                        **dataset_args)"
   ]
  },
  {
   "cell_type": "markdown",
   "id": "c27082a1",
   "metadata": {},
   "source": [
    "# Model Training and Visualization"
   ]
  },
  {
   "cell_type": "markdown",
   "id": "44f76d5a",
   "metadata": {},
   "source": [
    "## Pre-train"
   ]
  },
  {
   "cell_type": "code",
   "execution_count": null,
   "id": "4c4cac33",
   "metadata": {},
   "outputs": [],
   "source": [
    "pretrain_dataset = BarlowTwinDataset(train_df, IMG_SIZE,\n",
    "                                      transform=barlow_twins_transform)\n",
    "pretrain_loader = DataLoader(pretrain_dataset,\n",
    "                             batch_size=BATCH_SIZE_PRETRAIN,\n",
    "                             shuffle=True,\n",
    "                             num_workers=NUM_WORKERS,\n",
    "                             pin_memory=True,\n",
    "                             drop_last=True)\n",
    "\n",
    "unet_encoder_base = SpatialAttentionUNet_Barlow(INIT_FEATURES, in_channels=1, out_channels=1).to(DEVICE)\n",
    "projector = Projector(PROJECTOR_DIMS[0], PROJECTOR_DIMS[1],\n",
    "                      PROJECTOR_DIMS[2]).to(DEVICE)\n",
    "bt_model = BarlowTwinsModel(encoder=unet_encoder_base,\n",
    "                            projector=projector).to(DEVICE)\n",
    "\n",
    "optimizer_bt = optim.AdamW(bt_model.parameters(),\n",
    "                           lr=LEARNING_RATE_PRETRAIN,\n",
    "                           weight_decay=1e-6)\n",
    "criterion_bt = BarlowTwinsLoss(\n",
    "    lambda_param=BARLOW_LAMBDA,\n",
    "    batch_size=BATCH_SIZE_PRETRAIN,\n",
    "    projector_output_dim=PROJECTOR_DIMS[-1]).to(DEVICE)\n",
    "\n",
    "pretrain_history = pretrain_barlow_twins(\n",
    "    bt_model,\n",
    "    pretrain_loader,\n",
    "    optimizer_bt,\n",
    "    criterion_bt,\n",
    "    PRETRAIN_EPOCHS,\n",
    "    DEVICE,\n",
    "    encoder_save_path=\"bt_encoder_pretrained.pth\")"
   ]
  },
  {
   "cell_type": "markdown",
   "id": "051c409a",
   "metadata": {},
   "source": [
    "## Fine-tune"
   ]
  },
  {
   "cell_type": "code",
   "execution_count": null,
   "id": "20845ffc",
   "metadata": {},
   "outputs": [],
   "source": [
    "fine_tune_dataset = BusbraDataset(fine_tune_df, IMG_SIZE, transform=train_transform)\n",
    "val_dataset = BusbraDataset(val_df, IMG_SIZE, transform=val_transform)\n",
    "\n",
    "fine_tune_loader = DataLoader(fine_tune_dataset,\n",
    "                              batch_size=BATCH_SIZE_FINETUNE,\n",
    "                              shuffle=True,\n",
    "                              num_workers=NUM_WORKERS,\n",
    "                              pin_memory=True)\n",
    "val_loader = DataLoader(val_dataset,\n",
    "                        batch_size=BATCH_SIZE_FINETUNE,\n",
    "                        shuffle=False,\n",
    "                        num_workers=NUM_WORKERS,\n",
    "                        pin_memory=True)\n",
    "\n",
    "fine_tune_model = SpatialAttentionUNet_Barlow(INIT_FEATURES, in_channels=1,\n",
    "                                       out_channels=1).to(DEVICE)\n",
    "\n",
    "pretrained_encoder_path = \"bt_encoder_pretrained.pth\"\n",
    "pretrained_dict = torch.load(pretrained_encoder_path, map_location=DEVICE)\n",
    "model_dict = fine_tune_model.state_dict()\n",
    "\n",
    "encoder_keys = {\n",
    "    k\n",
    "    for k in model_dict if k.startswith('encoder') or k.startswith('pool')\n",
    "    or k.startswith('bottleneck')\n",
    "}\n",
    "pretrained_dict_filtered = {\n",
    "    k: v\n",
    "    for k, v in pretrained_dict.items() if k in encoder_keys\n",
    "    and k in model_dict and v.shape == model_dict[k].shape\n",
    "}\n",
    "\n",
    "model_dict.update(pretrained_dict_filtered)\n",
    "fine_tune_model.load_state_dict(model_dict)"
   ]
  },
  {
   "cell_type": "code",
   "execution_count": null,
   "id": "f68d20f4",
   "metadata": {},
   "outputs": [],
   "source": [
    "criterion_ft = BCEDiceLoss(weight_bce=0.5, weight_dice=0.5).to(DEVICE)\n",
    "\n",
    "NUM_RUNS, EPOCHS = 5, 60\n",
    "all_histories, best_ios, best_dices, best_precs = [], [], [], []\n",
    "\n",
    "for run in range(1, NUM_RUNS + 1):\n",
    "    print(f\"Run {run}/{NUM_RUNS}\".center(50, \"-\"))\n",
    "    optimizer_ft = optim.Adam(fine_tune_model.parameters(),\n",
    "                            lr=LEARNING_RATE_FINETUNE)\n",
    "    scheduler_ft = lr_scheduler.ReduceLROnPlateau(optimizer_ft,\n",
    "                                                mode='max',\n",
    "                                                factor=0.1,\n",
    "                                                patience=5)\n",
    "    history, run_best, run_best_dice, run_best_prec = train(\n",
    "        fine_tune_model,\n",
    "        DEVICE,\n",
    "        fine_tune_loader,\n",
    "        val_loader,\n",
    "        criterion_ft,\n",
    "        optimizer_ft,\n",
    "        scheduler_ft,\n",
    "        num_epochs=EPOCHS,\n",
    "        save_path=f'bt_unet_finetuned_{int(FINE_TUNE_FRACTION*100)}pct.pth',\n",
    "    )\n",
    "\n",
    "    all_histories.append(history)\n",
    "    best_ios.append(run_best)\n",
    "    best_dices.append(run_best_dice)\n",
    "    best_precs.append(run_best_prec)\n",
    "    print(\n",
    "        f\"Run {run} best → IoU: {run_best:.4f}, Dice: {run_best_dice:.4f}, Prec: {run_best_prec:.4f}\"\n",
    "    )\n",
    "\n",
    "    predict_compare(fine_tune_model, DEVICE, val_loader, num_samples=5)\n",
    "\n",
    "print(f\"\\nAll runs done. Best IoUs: {best_ios}\")"
   ]
  },
  {
   "cell_type": "markdown",
   "id": "508fa02a",
   "metadata": {},
   "source": [
    "# Inference"
   ]
  },
  {
   "cell_type": "code",
   "execution_count": null,
   "id": "a7934bae",
   "metadata": {},
   "outputs": [],
   "source": [
    "dice_arr = np.array(best_dices)\n",
    "prec_arr = np.array(best_precs)\n",
    "io_arr = np.array(best_ios)\n",
    "\n",
    "print(f\"Dice      : {dice_arr.mean():.4f} ± {dice_arr.std():.4f}\")\n",
    "print(f\"Precision : {prec_arr.mean():.4f} ± {prec_arr.std():.4f}\")\n",
    "print(f\"mIoU      : {io_arr.mean():.4f} ± {io_arr.std():.4f}\")"
   ]
  },
  {
   "cell_type": "code",
   "execution_count": null,
   "id": "06e3d6ea",
   "metadata": {},
   "outputs": [],
   "source": [
    "params_m = sum(p.numel() for p in fine_tune_model.parameters()) / 1e6\n",
    "print(f\"Params    : {params_m:.2f}M\")"
   ]
  },
  {
   "cell_type": "code",
   "execution_count": null,
   "id": "d49059fa",
   "metadata": {},
   "outputs": [],
   "source": [
    "fine_tune_model.eval()\n",
    "times = []\n",
    "with torch.no_grad():\n",
    "    for imgs, _ in val_loader:\n",
    "        t0 = time.time()\n",
    "        _ = fine_tune_model(imgs.to(DEVICE))\n",
    "        times.append((time.time() - t0) / imgs.size(0))\n",
    "times = np.array(times)\n",
    "print(\n",
    "    f\"Inference Time: {times.mean()*1000:.2f} ± {times.std()*1000:.2f} ms/image\"\n",
    ")"
   ]
  }
 ],
 "metadata": {
  "kernelspec": {
   "display_name": "Python 3",
   "language": "python",
   "name": "python3"
  },
  "language_info": {
   "codemirror_mode": {
    "name": "ipython",
    "version": 3
   },
   "file_extension": ".py",
   "mimetype": "text/x-python",
   "name": "python",
   "nbconvert_exporter": "python",
   "pygments_lexer": "ipython3",
   "version": "3.11.9"
  }
 },
 "nbformat": 4,
 "nbformat_minor": 5
}
