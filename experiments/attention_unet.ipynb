{
 "cells": [
  {
   "cell_type": "code",
   "execution_count": null,
   "id": "5e52846b",
   "metadata": {},
   "outputs": [],
   "source": [
    "import os\n",
    "import sys\n",
    "import random\n",
    "import warnings\n",
    "\n",
    "warnings.filterwarnings(\"ignore\")\n",
    "sys.path.append(os.path.abspath('..'))\n",
    "\n",
    "import time\n",
    "import numpy as np\n",
    "import pandas as pd\n",
    "import kagglehub\n",
    "from sklearn.model_selection import train_test_split\n",
    "\n",
    "import torch\n",
    "import torch.optim as optim\n",
    "import torch.optim.lr_scheduler as lr_scheduler\n",
    "from torch.utils.data import DataLoader, SequentialSampler\n",
    "\n",
    "import albumentations as A\n",
    "from albumentations.pytorch import ToTensorV2\n",
    "\n",
    "from utils.datasets import SegmentationDataset\n",
    "from utils.metric import BCEDiceLoss\n",
    "from utils.visualization import predict_compare, plot_history_loss\n",
    "from utils.training import train\n",
    "from models.SpatialAttention_UNet import SpatialAttentionUNet"
   ]
  },
  {
   "cell_type": "code",
   "execution_count": null,
   "id": "408afd56",
   "metadata": {},
   "outputs": [],
   "source": [
    "SEED = 42\n",
    "random.seed(SEED)\n",
    "np.random.seed(SEED)\n",
    "torch.manual_seed(SEED)\n",
    "if torch.cuda.is_available():\n",
    "    torch.cuda.manual_seed(SEED)\n",
    "    torch.cuda.manual_seed_all(SEED)"
   ]
  },
  {
   "cell_type": "markdown",
   "id": "39cb1132",
   "metadata": {},
   "source": [
    "# Load Dataset"
   ]
  },
  {
   "cell_type": "code",
   "execution_count": null,
   "id": "a4c43ef8",
   "metadata": {},
   "outputs": [],
   "source": [
    "path = kagglehub.dataset_download(\"orvile/bus-bra-a-breast-ultrasound-dataset\")\n",
    "base = os.path.join(path, \"BUSBRA\")\n",
    "images_root = os.path.join(base, \"Images\")\n",
    "masks_root = os.path.join(base, \"Masks\")\n",
    "csv_path = os.path.join(base, \"bus_data.csv\")\n",
    "df_meta = pd.read_csv(csv_path)"
   ]
  },
  {
   "cell_type": "code",
   "execution_count": null,
   "id": "07f09ec0",
   "metadata": {},
   "outputs": [],
   "source": [
    "entries = []\n",
    "for _, row in df_meta.iterrows():\n",
    "    base_id = str(row['ID'])\n",
    "    img_file = f\"{base_id}.png\"\n",
    "    if base_id.startswith(\"bus_\"):\n",
    "        mask_file = f\"mask_{base_id[4:]}.png\"\n",
    "    else:\n",
    "        continue\n",
    "    img_p = os.path.join(images_root, img_file)\n",
    "    mask_p = os.path.join(masks_root, mask_file)\n",
    "    if os.path.exists(img_p) and os.path.exists(mask_p):\n",
    "        entries.append((row['Pathology'], img_p, mask_p))"
   ]
  },
  {
   "cell_type": "code",
   "execution_count": null,
   "id": "6564686d",
   "metadata": {},
   "outputs": [],
   "source": [
    "df = pd.DataFrame(entries, columns=[\"label\", \"image_path\", \"mask_path\"])\n",
    "stratify = df['label'] if df['label'].value_counts().min() >= 2 else None\n",
    "train_df, val_df = train_test_split(df, test_size=0.2, stratify=stratify)"
   ]
  },
  {
   "cell_type": "code",
   "execution_count": null,
   "id": "4fd9362f",
   "metadata": {},
   "outputs": [],
   "source": [
    "IMG_SIZE = (256, 256)\n",
    "train_transform = A.Compose([\n",
    "    A.Resize(*IMG_SIZE),\n",
    "    A.HorizontalFlip(p=0.5),\n",
    "    A.RandomBrightnessContrast(p=0.8),\n",
    "    A.GaussNoise(p=0.3),\n",
    "    A.Normalize(mean=0, std=1, max_pixel_value=255),\n",
    "    ToTensorV2(),\n",
    "])\n",
    "val_transform = A.Compose([\n",
    "    A.Resize(*IMG_SIZE),\n",
    "    A.Normalize(mean=0, std=1, max_pixel_value=255),\n",
    "    ToTensorV2(),\n",
    "])"
   ]
  },
  {
   "cell_type": "code",
   "execution_count": null,
   "id": "2b7fa5f8",
   "metadata": {},
   "outputs": [],
   "source": [
    "dataset_args = dict(batch_size=8,\n",
    "                    num_workers=2,\n",
    "                    pin_memory=torch.cuda.is_available())\n",
    "train_ds = SegmentationDataset(train_df, IMG_SIZE, train_transform)\n",
    "val_ds = SegmentationDataset(val_df, IMG_SIZE, val_transform)\n",
    "train_loader = DataLoader(train_ds, shuffle=True, **dataset_args)\n",
    "val_loader = DataLoader(val_ds,\n",
    "                        sampler=SequentialSampler(val_ds),\n",
    "                        shuffle=False,\n",
    "                        **dataset_args)"
   ]
  },
  {
   "cell_type": "markdown",
   "id": "8069cf40",
   "metadata": {},
   "source": [
    "# Model Training and Visualization"
   ]
  },
  {
   "cell_type": "code",
   "execution_count": null,
   "id": "1a1c8559",
   "metadata": {},
   "outputs": [],
   "source": [
    "DEVICE = torch.device(\"cuda\" if torch.cuda.is_available() else \"cpu\")\n",
    "criterion = BCEDiceLoss(0.5, 0.5).to(DEVICE)"
   ]
  },
  {
   "cell_type": "code",
   "execution_count": null,
   "id": "f68d20f4",
   "metadata": {},
   "outputs": [],
   "source": [
    "NUM_RUNS, EPOCHS = 5, 60\n",
    "all_histories, best_ios, best_dices, best_precs = [], [], [], []\n",
    "\n",
    "for run in range(1, NUM_RUNS + 1):\n",
    "    print(f\"Run {run}/{NUM_RUNS}\".center(50, \"-\"))\n",
    "    model = SpatialAttentionUNet().to(DEVICE)\n",
    "    optimizer = optim.Adam(model.parameters(), lr=1e-3)\n",
    "    scheduler = lr_scheduler.ReduceLROnPlateau(optimizer,\n",
    "                                               mode='max',\n",
    "                                               factor=0.1,\n",
    "                                               patience=5)\n",
    "    history, run_best, run_best_dice, run_best_prec = train(\n",
    "        model,\n",
    "        DEVICE,\n",
    "        train_loader,\n",
    "        val_loader,\n",
    "        criterion,\n",
    "        optimizer,\n",
    "        scheduler,\n",
    "        num_epochs=EPOCHS,\n",
    "        save_path=f'best_spatialattention-unet_run{run}.pth',\n",
    "    )\n",
    "\n",
    "    all_histories.append(history)\n",
    "    best_ios.append(run_best)\n",
    "    best_dices.append(run_best_dice)\n",
    "    best_precs.append(run_best_prec)\n",
    "    print(\n",
    "        f\"Run {run} best → IoU: {run_best:.4f}, Dice: {run_best_dice:.4f}, Prec: {run_best_prec:.4f}\"\n",
    "    )\n",
    "\n",
    "    predict_compare(model, DEVICE, val_loader, num_samples=5)\n",
    "\n",
    "print(f\"\\nAll runs done. Best IoUs: {best_ios}\")"
   ]
  },
  {
   "cell_type": "markdown",
   "id": "508fa02a",
   "metadata": {},
   "source": [
    "# Inference"
   ]
  },
  {
   "cell_type": "code",
   "execution_count": null,
   "id": "a7934bae",
   "metadata": {},
   "outputs": [],
   "source": [
    "dice_arr = np.array(best_dices)\n",
    "prec_arr = np.array(best_precs)\n",
    "io_arr = np.array(best_ios)\n",
    "\n",
    "print(f\"Dice      : {dice_arr.mean():.4f} ± {dice_arr.std():.4f}\")\n",
    "print(f\"Precision : {prec_arr.mean():.4f} ± {prec_arr.std():.4f}\")\n",
    "print(f\"mIoU      : {io_arr.mean():.4f} ± {io_arr.std():.4f}\")"
   ]
  },
  {
   "cell_type": "code",
   "execution_count": null,
   "id": "06e3d6ea",
   "metadata": {},
   "outputs": [],
   "source": [
    "params_m = sum(p.numel() for p in model.parameters()) / 1e6\n",
    "print(f\"Params    : {params_m:.2f}M\")"
   ]
  },
  {
   "cell_type": "code",
   "execution_count": null,
   "id": "d49059fa",
   "metadata": {},
   "outputs": [],
   "source": [
    "model.eval()\n",
    "times = []\n",
    "with torch.no_grad():\n",
    "    for imgs, _ in val_loader:\n",
    "        t0 = time.time()\n",
    "        _ = model(imgs.to(DEVICE))\n",
    "        times.append((time.time() - t0) / imgs.size(0))\n",
    "times = np.array(times)\n",
    "print(\n",
    "    f\"Inference Time: {times.mean()*1000:.2f} ± {times.std()*1000:.2f} ms/image\"\n",
    ")"
   ]
  }
 ],
 "metadata": {
  "kernelspec": {
   "display_name": "Python 3",
   "language": "python",
   "name": "python3"
  },
  "language_info": {
   "codemirror_mode": {
    "name": "ipython",
    "version": 3
   },
   "file_extension": ".py",
   "mimetype": "text/x-python",
   "name": "python",
   "nbconvert_exporter": "python",
   "pygments_lexer": "ipython3",
   "version": "3.11.9"
  }
 },
 "nbformat": 4,
 "nbformat_minor": 5
}
